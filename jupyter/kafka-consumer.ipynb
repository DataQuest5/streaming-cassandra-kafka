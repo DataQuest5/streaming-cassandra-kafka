{
 "cells": [
  {
   "cell_type": "code",
   "execution_count": 1,
   "id": "79ff3ec1-3bb5-40d6-b734-91620f5d69ed",
   "metadata": {},
   "outputs": [
    {
     "data": {
      "text/plain": [
       "\u001b[32mimport \u001b[39m\u001b[36m$ivy.$                                  \n",
       "\u001b[39m\n",
       "\u001b[32mimport \u001b[39m\u001b[36m$ivy.$                                             \n",
       "\n",
       "\u001b[39m\n",
       "\u001b[32mimport \u001b[39m\u001b[36morg.apache.log4j.{Level, Logger}\n",
       "\u001b[39m"
      ]
     },
     "execution_count": 1,
     "metadata": {},
     "output_type": "execute_result"
    }
   ],
   "source": [
    "import $ivy.`org.apache.spark::spark-sql:2.4.0`\n",
    "import $ivy.`org.apache.spark::spark-sql-kafka-0-10:2.4.0`\n",
    "\n",
    "import org.apache.log4j.{Level, Logger}\n",
    "Logger.getLogger(\"org\").setLevel(Level.OFF)"
   ]
  },
  {
   "cell_type": "code",
   "execution_count": 2,
   "id": "517c9413-f7c9-4fd9-8cf9-2c3133d713f1",
   "metadata": {},
   "outputs": [
    {
     "name": "stdout",
     "output_type": "stream",
     "text": [
      "Loading spark-stubs\n",
      "Getting spark JARs\n"
     ]
    },
    {
     "name": "stderr",
     "output_type": "stream",
     "text": [
      "SLF4J: No SLF4J providers were found.\n",
      "SLF4J: Defaulting to no-operation (NOP) logger implementation\n",
      "SLF4J: See https://www.slf4j.org/codes.html#noProviders for further details.\n"
     ]
    },
    {
     "name": "stdout",
     "output_type": "stream",
     "text": [
      "Creating SparkSession\n"
     ]
    },
    {
     "name": "stderr",
     "output_type": "stream",
     "text": [
      "Using Spark's default log4j profile: org/apache/spark/log4j-defaults.properties\n"
     ]
    },
    {
     "data": {
      "text/html": [
       "<a target=\"_blank\" href=\"http://750fdac09812:4040\">Spark UI</a>"
      ]
     },
     "metadata": {},
     "output_type": "display_data"
    },
    {
     "data": {
      "text/plain": [
       "\u001b[32mimport \u001b[39m\u001b[36morg.apache.spark.sql._\n",
       "\n",
       "\u001b[39m\n",
       "\u001b[36mspark\u001b[39m: \u001b[32mSparkSession\u001b[39m = org.apache.spark.sql.SparkSession@677d4e95\n",
       "\u001b[32mimport \u001b[39m\u001b[36mspark.implicits._\n",
       "\u001b[39m"
      ]
     },
     "execution_count": 2,
     "metadata": {},
     "output_type": "execute_result"
    }
   ],
   "source": [
    "import org.apache.spark.sql._\n",
    "\n",
    "val spark = {\n",
    "  NotebookSparkSession.builder()\n",
    "    .master(\"local[*]\")\n",
    "    .getOrCreate()\n",
    "}\n",
    "\n",
    "import spark.implicits._\n"
   ]
  },
  {
   "cell_type": "code",
   "execution_count": 63,
   "id": "3389229d-c223-45f3-9d1c-5388c0bfdde8",
   "metadata": {},
   "outputs": [
    {
     "name": "stdout",
     "output_type": "stream",
     "text": [
      "root\n",
      " |-- key: string (nullable = true)\n",
      " |-- value: array (nullable = true)\n",
      " |    |-- element: struct (containsNull = true)\n",
      " |    |    |-- schema: string (nullable = true)\n",
      " |    |    |-- payload: struct (nullable = true)\n",
      " |    |    |    |-- ts_ms: string (nullable = true)\n",
      " |    |    |    |-- op: string (nullable = true)\n",
      " |    |    |    |-- after: struct (nullable = true)\n",
      " |    |    |    |    |-- id: integer (nullable = false)\n",
      " |    |    |    |    |-- account: string (nullable = true)\n",
      " |    |    |    |    |-- day: string (nullable = true)\n",
      " |    |    |    |    |-- hash: string (nullable = true)\n",
      "\n"
     ]
    },
    {
     "data": {
      "text/plain": [
       "\u001b[32mimport \u001b[39m\u001b[36morg.apache.spark.sql.types._\n",
       "\u001b[39m\n",
       "\u001b[32mimport \u001b[39m\u001b[36morg.apache.spark.sql.Encoders\n",
       "\n",
       "// add current context to the encoder scopes to be able to decode the stream with the case classes\n",
       "\u001b[39m\n",
       "defined \u001b[32mclass\u001b[39m \u001b[36mCassandraTransaction\u001b[39m\n",
       "defined \u001b[32mclass\u001b[39m \u001b[36mDebeziumPayload\u001b[39m\n",
       "defined \u001b[32mclass\u001b[39m \u001b[36mDebeziumMessage\u001b[39m\n",
       "\u001b[36mvalueSchema\u001b[39m: \u001b[32mStructType\u001b[39m = \u001b[33mStructType\u001b[39m(\n",
       "  \u001b[33mStructField\u001b[39m(\n",
       "    \u001b[32m\"payload\"\u001b[39m,\n",
       "    \u001b[33mStructType\u001b[39m(\n",
       "      \u001b[33mStructField\u001b[39m(\u001b[32m\"ts_ms\"\u001b[39m, StringType, \u001b[32mtrue\u001b[39m, {}),\n",
       "      \u001b[33mStructField\u001b[39m(\u001b[32m\"op\"\u001b[39m, StringType, \u001b[32mtrue\u001b[39m, {}),\n",
       "      \u001b[33mStructField\u001b[39m(\n",
       "        \u001b[32m\"after\"\u001b[39m,\n",
       "        \u001b[33mStructType\u001b[39m(\n",
       "          \u001b[33mStructField\u001b[39m(\u001b[32m\"id\"\u001b[39m, StringType, \u001b[32mtrue\u001b[39m, {}),\n",
       "          \u001b[33mStructField\u001b[39m(\u001b[32m\"account\"\u001b[39m, StringType, \u001b[32mtrue\u001b[39m, {}),\n",
       "          \u001b[33mStructField\u001b[39m(\u001b[32m\"day\"\u001b[39m, StringType, \u001b[32mtrue\u001b[39m, {}),\n",
       "          \u001b[33mStructField\u001b[39m(\u001b[32m\"hash\"\u001b[39m, StringType, \u001b[32mtrue\u001b[39m, {})\n",
       "        ),\n",
       "        \u001b[32mtrue\u001b[39m,\n",
       "        {}\n",
       "      )\n",
       "    ),\n",
       "    \u001b[32mtrue\u001b[39m,\n",
       "    {}\n",
       "  )\n",
       ")"
      ]
     },
     "execution_count": 63,
     "metadata": {},
     "output_type": "execute_result"
    }
   ],
   "source": [
    "import org.apache.spark.sql.types._\n",
    "import org.apache.spark.sql.Encoders\n",
    "\n",
    "// add current context to the encoder scopes to be able to decode the stream with the case classes\n",
    "org.apache.spark.sql.catalyst.encoders.OuterScopes.addOuterScope(this)\n",
    "\n",
    "//Define case classes to use as schema base\n",
    "case class CassandraTransaction(id: String, account: Option[String], day: Option[String], hash: Option[String]) \n",
    "case class DebeziumPayload(ts_ms: Option[String], op: Option[String], after: Option[CassandraTransaction])\n",
    "case class DebeziumMessage(payload: DebeziumPayload)\n",
    "\n",
    "//Convert case classes to schema using encoder: https://spark.apache.org/docs/2.1.2/api/java/org/apache/spark/sql/Encoders.html\n",
    "val valueSchema = Encoders.product[DebeziumMessage].schema\n",
    "\n",
    "\n",
    "schema.printTreeString()"
   ]
  },
  {
   "cell_type": "code",
   "execution_count": 64,
   "id": "6612c415-c090-44e8-8e67-ee227cf05a0e",
   "metadata": {},
   "outputs": [
    {
     "data": {
      "text/plain": [
       "\u001b[36mdf\u001b[39m: \u001b[32mDataFrame\u001b[39m = [key: binary, value: binary ... 5 more fields]"
      ]
     },
     "execution_count": 64,
     "metadata": {},
     "output_type": "execute_result"
    }
   ],
   "source": [
    "val df = spark\n",
    "  .readStream\n",
    "  .format(\"kafka\")\n",
    "  .option(\"kafka.bootstrap.servers\", \"kafka:9092\")\n",
    "  .option(\"subscribe\", \"test_prefix.testdb.transactions\")\n",
    "  .option(\"startingOffsets\",\"earliest\")\n",
    "\n",
    "  // .option(\"startingOffsets\", \"\"\"{\"test_prefix.testdb.transactions\":{\"0\":23}}\"\"\")\n",
    "  // .option(\"endingOffsets\", \"\"\"{\"test_prefix.testdb.transactions\":{\"0\":50}}\"\"\")\n",
    "  .load()"
   ]
  },
  {
   "cell_type": "code",
   "execution_count": 65,
   "id": "d57f8afc-3c4c-423b-8a9d-83a81be12933",
   "metadata": {},
   "outputs": [
    {
     "data": {
      "text/plain": [
       "\u001b[32mimport \u001b[39m\u001b[36morg.apache.spark.sql.functions._\n",
       "\u001b[39m\n",
       "\u001b[32mimport \u001b[39m\u001b[36morg.apache.spark.sql.functions.from_json\n",
       "\n",
       "\u001b[39m\n",
       "\u001b[36mstructuredDf\u001b[39m: \u001b[32mDataFrame\u001b[39m = [value: struct<payload: struct<ts_ms: string, op: string ... 1 more field>>]"
      ]
     },
     "execution_count": 65,
     "metadata": {},
     "output_type": "execute_result"
    }
   ],
   "source": [
    "import org.apache.spark.sql.functions._\n",
    "import org.apache.spark.sql.functions.from_json\n",
    "\n",
    "val structuredDf = df\n",
    "    .select(from_json(col(\"value\").cast(\"string\"), valueSchema).as(\"value\"))"
   ]
  },
  {
   "cell_type": "code",
   "execution_count": 66,
   "id": "255f65cd-059e-481d-aba7-dd60a32a97de",
   "metadata": {},
   "outputs": [
    {
     "data": {
      "text/plain": [
       "\u001b[36mdebeziumDf\u001b[39m: \u001b[32mDataset\u001b[39m[\u001b[32mDebeziumMessage\u001b[39m] = [payload: struct<ts_ms: string, op: string ... 1 more field>]"
      ]
     },
     "execution_count": 66,
     "metadata": {},
     "output_type": "execute_result"
    }
   ],
   "source": [
    "// cast the dataset to typed values\n",
    "val debeziumDf = structuredDf\n",
    "    .select($\"value.payload\").as[DebeziumMessage]"
   ]
  },
  {
   "cell_type": "code",
   "execution_count": 69,
   "id": "8c7d0bd9-cbdc-4fc6-aa3e-e43508c1ca8e",
   "metadata": {},
   "outputs": [
    {
     "data": {
      "text/html": [
       "<div>\n",
       "  <span style=\"float: left;\">start at cmd68.sc:8</span>\n",
       "</div>\n"
      ]
     },
     "metadata": {},
     "output_type": "display_data"
    },
    {
     "data": {
      "text/html": [
       "<div class=\"progress\">\n",
       "  <div class=\"progress-bar\" role=\"progressbar\" style=\"background-color: blue; width: 100%; word-wrap: normal; white-space: nowrap; text-align: center; color: white\" aria-valuenow=\"100\" aria-valuemin=\"0\" aria-valuemax=\"100\">\n",
       "    1 / 1\n",
       "  </div>\n",
       "  <div class=\"progress-bar\" role=\"progressbar\" style=\"background-color: red; width: 0%\" aria-valuenow=\"0\" aria-valuemin=\"0\" aria-valuemax=\"100\"></div>\n",
       "</div>\n"
      ]
     },
     "metadata": {},
     "output_type": "display_data"
    },
    {
     "data": {
      "text/html": [
       "Got item <b>#DebeziumMessage(DebeziumPayload(Some(1670496912644),Some(i),Some(CassandraTransaction({\"value\":2,\"deletion_ts\":null,\"set\":true},Some({\"value\":\"A1\",\"deletion_ts\":null,\"set\":true}),Some({\"value\":\"d2\",\"deletion_ts\":null,\"set\":true}),Some({\"value\":\"HV2\",\"deletion_ts\":null,\"set\":true})))))</b>"
      ]
     },
     "metadata": {},
     "output_type": "display_data"
    },
    {
     "data": {
      "text/html": [
       "Got item <b>#DebeziumMessage(DebeziumPayload(Some(1670496912645),Some(i),Some(CassandraTransaction({\"value\":3,\"deletion_ts\":null,\"set\":true},Some({\"value\":\"A1\",\"deletion_ts\":null,\"set\":true}),Some({\"value\":\"d2\",\"deletion_ts\":null,\"set\":true}),Some({\"value\":\"HV3\",\"deletion_ts\":null,\"set\":true})))))</b>"
      ]
     },
     "metadata": {},
     "output_type": "display_data"
    },
    {
     "data": {
      "text/html": [
       "Got item <b>#DebeziumMessage(DebeziumPayload(Some(1670496912645),Some(i),Some(CassandraTransaction({\"value\":12,\"deletion_ts\":null,\"set\":true},Some({\"value\":\"A4\",\"deletion_ts\":null,\"set\":true}),Some({\"value\":\"d5\",\"deletion_ts\":null,\"set\":true}),Some({\"value\":\"HV12\",\"deletion_ts\":null,\"set\":true})))))</b>"
      ]
     },
     "metadata": {},
     "output_type": "display_data"
    },
    {
     "data": {
      "text/html": [
       "Got item <b>#DebeziumMessage(DebeziumPayload(Some(1670496912646),Some(i),Some(CassandraTransaction({\"value\":7,\"deletion_ts\":null,\"set\":true},Some({\"value\":\"A3\",\"deletion_ts\":null,\"set\":true}),Some({\"value\":\"d2\",\"deletion_ts\":null,\"set\":true}),Some({\"value\":\"HV7\",\"deletion_ts\":null,\"set\":true})))))</b>"
      ]
     },
     "metadata": {},
     "output_type": "display_data"
    },
    {
     "data": {
      "text/html": [
       "Got item <b>#DebeziumMessage(DebeziumPayload(Some(1670496912646),Some(i),Some(CassandraTransaction({\"value\":9,\"deletion_ts\":null,\"set\":true},Some({\"value\":\"A3\",\"deletion_ts\":null,\"set\":true}),Some({\"value\":\"d1\",\"deletion_ts\":null,\"set\":true}),Some({\"value\":\"HV9\",\"deletion_ts\":null,\"set\":true})))))</b>"
      ]
     },
     "metadata": {},
     "output_type": "display_data"
    },
    {
     "data": {
      "text/html": [
       "Got item <b>#DebeziumMessage(DebeziumPayload(Some(1670496912647),Some(i),Some(CassandraTransaction({\"value\":4,\"deletion_ts\":null,\"set\":true},Some({\"value\":\"A2\",\"deletion_ts\":null,\"set\":true}),Some({\"value\":\"d1\",\"deletion_ts\":null,\"set\":true}),Some({\"value\":\"HV4\",\"deletion_ts\":null,\"set\":true})))))</b>"
      ]
     },
     "metadata": {},
     "output_type": "display_data"
    },
    {
     "data": {
      "text/html": [
       "Got item <b>#DebeziumMessage(DebeziumPayload(Some(1670496912647),Some(i),Some(CassandraTransaction({\"value\":10,\"deletion_ts\":null,\"set\":true},Some({\"value\":\"A4\",\"deletion_ts\":null,\"set\":true}),Some({\"value\":\"d4\",\"deletion_ts\":null,\"set\":true}),Some({\"value\":\"HV10\",\"deletion_ts\":null,\"set\":true})))))</b>"
      ]
     },
     "metadata": {},
     "output_type": "display_data"
    },
    {
     "data": {
      "text/html": [
       "Got item <b>#DebeziumMessage(DebeziumPayload(Some(1670496912648),Some(i),Some(CassandraTransaction({\"value\":11,\"deletion_ts\":null,\"set\":true},Some({\"value\":\"A4\",\"deletion_ts\":null,\"set\":true}),Some({\"value\":\"d5\",\"deletion_ts\":null,\"set\":true}),Some({\"value\":\"HV11\",\"deletion_ts\":null,\"set\":true})))))</b>"
      ]
     },
     "metadata": {},
     "output_type": "display_data"
    },
    {
     "data": {
      "text/html": [
       "Got item <b>#DebeziumMessage(DebeziumPayload(Some(1670496912648),Some(i),Some(CassandraTransaction({\"value\":8,\"deletion_ts\":null,\"set\":true},Some({\"value\":\"A3\",\"deletion_ts\":null,\"set\":true}),Some({\"value\":\"d2\",\"deletion_ts\":null,\"set\":true}),Some({\"value\":\"HV8\",\"deletion_ts\":null,\"set\":true})))))</b>"
      ]
     },
     "metadata": {},
     "output_type": "display_data"
    },
    {
     "data": {
      "text/html": [
       "Got item <b>#DebeziumMessage(DebeziumPayload(Some(1670496912649),Some(i),Some(CassandraTransaction({\"value\":5,\"deletion_ts\":null,\"set\":true},Some({\"value\":\"A3\",\"deletion_ts\":null,\"set\":true}),Some({\"value\":\"d4\",\"deletion_ts\":null,\"set\":true}),Some({\"value\":\"HV5\",\"deletion_ts\":null,\"set\":true})))))</b>"
      ]
     },
     "metadata": {},
     "output_type": "display_data"
    },
    {
     "data": {
      "text/html": [
       "Got item <b>#DebeziumMessage(DebeziumPayload(Some(1670496912649),Some(i),Some(CassandraTransaction({\"value\":6,\"deletion_ts\":null,\"set\":true},Some({\"value\":\"A3\",\"deletion_ts\":null,\"set\":true}),Some({\"value\":\"d1\",\"deletion_ts\":null,\"set\":true}),Some({\"value\":\"HV6\",\"deletion_ts\":null,\"set\":true})))))</b>"
      ]
     },
     "metadata": {},
     "output_type": "display_data"
    },
    {
     "data": {
      "text/html": [
       "Got item <b>#DebeziumMessage(DebeziumPayload(Some(1670496912649),Some(i),Some(CassandraTransaction({\"value\":1,\"deletion_ts\":null,\"set\":true},Some({\"value\":\"A1\",\"deletion_ts\":null,\"set\":true}),Some({\"value\":\"d1\",\"deletion_ts\":null,\"set\":true}),Some({\"value\":\"HV1\",\"deletion_ts\":null,\"set\":true})))))</b>"
      ]
     },
     "metadata": {},
     "output_type": "display_data"
    },
    {
     "data": {
      "text/html": [
       "Got item <b>#DebeziumMessage(DebeziumPayload(Some(1670502892971),Some(i),Some(CassandraTransaction({\"value\":1,\"deletion_ts\":null,\"set\":true},Some({\"value\":\"A1\",\"deletion_ts\":null,\"set\":true}),Some({\"value\":\"d1\",\"deletion_ts\":null,\"set\":true}),Some({\"value\":\"HV1\",\"deletion_ts\":null,\"set\":true})))))</b>"
      ]
     },
     "metadata": {},
     "output_type": "display_data"
    },
    {
     "data": {
      "text/html": [
       "Got item <b>#DebeziumMessage(DebeziumPayload(Some(1670502892972),Some(i),Some(CassandraTransaction({\"value\":2,\"deletion_ts\":null,\"set\":true},Some({\"value\":\"A1\",\"deletion_ts\":null,\"set\":true}),Some({\"value\":\"d2\",\"deletion_ts\":null,\"set\":true}),Some({\"value\":\"HV2\",\"deletion_ts\":null,\"set\":true})))))</b>"
      ]
     },
     "metadata": {},
     "output_type": "display_data"
    },
    {
     "data": {
      "text/html": [
       "Got item <b>#DebeziumMessage(DebeziumPayload(Some(1670502892972),Some(i),Some(CassandraTransaction({\"value\":3,\"deletion_ts\":null,\"set\":true},Some({\"value\":\"A1\",\"deletion_ts\":null,\"set\":true}),Some({\"value\":\"d2\",\"deletion_ts\":null,\"set\":true}),Some({\"value\":\"HV3\",\"deletion_ts\":null,\"set\":true})))))</b>"
      ]
     },
     "metadata": {},
     "output_type": "display_data"
    },
    {
     "data": {
      "text/html": [
       "Got item <b>#DebeziumMessage(DebeziumPayload(Some(1670502892973),Some(i),Some(CassandraTransaction({\"value\":4,\"deletion_ts\":null,\"set\":true},Some({\"value\":\"A2\",\"deletion_ts\":null,\"set\":true}),Some({\"value\":\"d1\",\"deletion_ts\":null,\"set\":true}),Some({\"value\":\"HV4\",\"deletion_ts\":null,\"set\":true})))))</b>"
      ]
     },
     "metadata": {},
     "output_type": "display_data"
    },
    {
     "data": {
      "text/html": [
       "Got item <b>#DebeziumMessage(DebeziumPayload(Some(1670502892974),Some(i),Some(CassandraTransaction({\"value\":5,\"deletion_ts\":null,\"set\":true},Some({\"value\":\"A3\",\"deletion_ts\":null,\"set\":true}),Some({\"value\":\"d4\",\"deletion_ts\":null,\"set\":true}),Some({\"value\":\"HV5\",\"deletion_ts\":null,\"set\":true})))))</b>"
      ]
     },
     "metadata": {},
     "output_type": "display_data"
    },
    {
     "data": {
      "text/html": [
       "Got item <b>#DebeziumMessage(DebeziumPayload(Some(1670502892974),Some(i),Some(CassandraTransaction({\"value\":6,\"deletion_ts\":null,\"set\":true},Some({\"value\":\"A3\",\"deletion_ts\":null,\"set\":true}),Some({\"value\":\"d1\",\"deletion_ts\":null,\"set\":true}),Some({\"value\":\"HV6\",\"deletion_ts\":null,\"set\":true})))))</b>"
      ]
     },
     "metadata": {},
     "output_type": "display_data"
    },
    {
     "data": {
      "text/html": [
       "Got item <b>#DebeziumMessage(DebeziumPayload(Some(1670502892975),Some(i),Some(CassandraTransaction({\"value\":7,\"deletion_ts\":null,\"set\":true},Some({\"value\":\"A3\",\"deletion_ts\":null,\"set\":true}),Some({\"value\":\"d2\",\"deletion_ts\":null,\"set\":true}),Some({\"value\":\"HV7\",\"deletion_ts\":null,\"set\":true})))))</b>"
      ]
     },
     "metadata": {},
     "output_type": "display_data"
    },
    {
     "data": {
      "text/html": [
       "Got item <b>#DebeziumMessage(DebeziumPayload(Some(1670502892975),Some(i),Some(CassandraTransaction({\"value\":8,\"deletion_ts\":null,\"set\":true},Some({\"value\":\"A3\",\"deletion_ts\":null,\"set\":true}),Some({\"value\":\"d2\",\"deletion_ts\":null,\"set\":true}),Some({\"value\":\"HV8\",\"deletion_ts\":null,\"set\":true})))))</b>"
      ]
     },
     "metadata": {},
     "output_type": "display_data"
    },
    {
     "data": {
      "text/html": [
       "Got item <b>#DebeziumMessage(DebeziumPayload(Some(1670502892976),Some(i),Some(CassandraTransaction({\"value\":9,\"deletion_ts\":null,\"set\":true},Some({\"value\":\"A3\",\"deletion_ts\":null,\"set\":true}),Some({\"value\":\"d1\",\"deletion_ts\":null,\"set\":true}),Some({\"value\":\"HV9\",\"deletion_ts\":null,\"set\":true})))))</b>"
      ]
     },
     "metadata": {},
     "output_type": "display_data"
    },
    {
     "data": {
      "text/html": [
       "Got item <b>#DebeziumMessage(DebeziumPayload(Some(1670502892976),Some(i),Some(CassandraTransaction({\"value\":10,\"deletion_ts\":null,\"set\":true},Some({\"value\":\"A4\",\"deletion_ts\":null,\"set\":true}),Some({\"value\":\"d4\",\"deletion_ts\":null,\"set\":true}),Some({\"value\":\"HV10\",\"deletion_ts\":null,\"set\":true})))))</b>"
      ]
     },
     "metadata": {},
     "output_type": "display_data"
    },
    {
     "data": {
      "text/html": [
       "Got item <b>#DebeziumMessage(DebeziumPayload(Some(1670502892977),Some(i),Some(CassandraTransaction({\"value\":11,\"deletion_ts\":null,\"set\":true},Some({\"value\":\"A4\",\"deletion_ts\":null,\"set\":true}),Some({\"value\":\"d5\",\"deletion_ts\":null,\"set\":true}),Some({\"value\":\"HV11\",\"deletion_ts\":null,\"set\":true})))))</b>"
      ]
     },
     "metadata": {},
     "output_type": "display_data"
    },
    {
     "data": {
      "text/html": [
       "Got item <b>#DebeziumMessage(DebeziumPayload(Some(1670502892978),Some(i),Some(CassandraTransaction({\"value\":12,\"deletion_ts\":null,\"set\":true},Some({\"value\":\"A4\",\"deletion_ts\":null,\"set\":true}),Some({\"value\":\"d5\",\"deletion_ts\":null,\"set\":true}),Some({\"value\":\"HV12\",\"deletion_ts\":null,\"set\":true})))))</b>"
      ]
     },
     "metadata": {},
     "output_type": "display_data"
    },
    {
     "name": "stdout",
     "output_type": "stream",
     "text": [
      "-------------------------------------------\n",
      "Batch: 0\n",
      "-------------------------------------------\n",
      "+--------------------+\n",
      "|             payload|\n",
      "+--------------------+\n",
      "|[1670496912644, i...|\n",
      "|[1670496912645, i...|\n",
      "|[1670496912645, i...|\n",
      "|[1670496912646, i...|\n",
      "|[1670496912646, i...|\n",
      "|[1670496912647, i...|\n",
      "|[1670496912647, i...|\n",
      "|[1670496912648, i...|\n",
      "|[1670496912648, i...|\n",
      "|[1670496912649, i...|\n",
      "|[1670496912649, i...|\n",
      "|[1670496912649, i...|\n",
      "|[1670502892971, i...|\n",
      "|[1670502892972, i...|\n",
      "|[1670502892972, i...|\n",
      "|[1670502892973, i...|\n",
      "|[1670502892974, i...|\n",
      "|[1670502892974, i...|\n",
      "|[1670502892975, i...|\n",
      "|[1670502892975, i...|\n",
      "+--------------------+\n",
      "only showing top 20 rows\n",
      "\n"
     ]
    },
    {
     "data": {
      "text/plain": [
       "\u001b[36mconsoleOutput1\u001b[39m: \u001b[32mstreaming\u001b[39m.\u001b[32mStreamingQuery\u001b[39m = org.apache.spark.sql.execution.streaming.StreamingQueryWrapper@672641c"
      ]
     },
     "execution_count": 69,
     "metadata": {},
     "output_type": "execute_result"
    }
   ],
   "source": [
    "\n",
    "val consoleOutput1 = debeziumDf\n",
    "     .map(v => {\n",
    "        kernel.publish.html(s\"Got item <b>#$v</b>\")\n",
    "        v \n",
    "     })\n",
    "     .writeStream\n",
    "     .outputMode(\"append\")\n",
    "     .format(\"console\")\n",
    "     .start()\n",
    "\n",
    "// wait to process the stream\n",
    "Thread.sleep(5000)\n",
    "\n",
    "// finish processing not to freez the kernel\n",
    "consoleOutput1.stop()\n",
    "// df.show()"
   ]
  },
  {
   "cell_type": "code",
   "execution_count": null,
   "id": "1123e011-3b24-4c36-8618-599b39827f74",
   "metadata": {},
   "outputs": [],
   "source": []
  }
 ],
 "metadata": {
  "kernelspec": {
   "display_name": "Scala 2.12",
   "language": "scala",
   "name": "scala212"
  },
  "language_info": {
   "codemirror_mode": "text/x-scala",
   "file_extension": ".sc",
   "mimetype": "text/x-scala",
   "name": "scala",
   "nbconvert_exporter": "script",
   "version": "2.12.17"
  }
 },
 "nbformat": 4,
 "nbformat_minor": 5
}
